{
 "metadata": {
  "language_info": {
   "codemirror_mode": {
    "name": "ipython",
    "version": 3
   },
   "file_extension": ".py",
   "mimetype": "text/x-python",
   "name": "python",
   "nbconvert_exporter": "python",
   "pygments_lexer": "ipython3",
   "version": 3
  },
  "orig_nbformat": 2
 },
 "nbformat": 4,
 "nbformat_minor": 2,
 "cells": [
  {
   "cell_type": "code",
   "execution_count": null,
   "metadata": {},
   "outputs": [],
   "source": [
    "\n",
    "from detect import (detect_logos, detect_text)\n",
    "import pandas as pd\n",
    "import re\n",
    "import os\n",
    "#from __future__ import print_function\n",
    "from google.cloud import vision\n"
   ]
  },
  {
   "cell_type": "code",
   "execution_count": null,
   "metadata": {},
   "outputs": [],
   "source": [
    "\n",
    "images_path = \"C:\\\\Users\\\\heinz\\\\Yagora GmbH\\\\Ievgen Kyrda - Crawler\\\\images\\\\foodnewsgermany_images/\"\n",
    "file_names = os.listdir(os.path.dirname(images_path))\n",
    "\n",
    "file_paths = [images_path + f for f in file_names]\n",
    "\n",
    "detect_logos(\"C:\\\\Users\\\\heinz\\\\Yagora GmbH\\\\Ievgen Kyrda - Crawler\\\\images\\\\foodnewsgermany_images/CK0w1AyjKWU.jpg\")"
   ]
  },
  {
   "cell_type": "code",
   "execution_count": null,
   "metadata": {},
   "outputs": [],
   "source": [
    "logos = [detect_logos(f) for f in file_paths]\n",
    "\n",
    "texts = [detect_text(f)[0].description for f in file_paths]\n",
    "# remove line break symbols\n",
    "texts = [x.replace(\"\\n\", \", \") for x in texts]"
   ]
  },
  {
   "cell_type": "code",
   "execution_count": null,
   "metadata": {},
   "outputs": [],
   "source": [
    "contained = []\n",
    "#contained[1] = \"test\"\n",
    "for i in range(len(logos)): # loop over future rows of df\n",
    "    tmp = []\n",
    "    for j in logos[i]: # for every logo-row, check if in text\n",
    "        if j.lower() in texts[i].lower():\n",
    "            tmp.append(logos[i])\n",
    "        else:\n",
    "            tmp.append(None)\n",
    "    contained.append(tmp)"
   ]
  },
  {
   "cell_type": "code",
   "execution_count": null,
   "metadata": {},
   "outputs": [],
   "source": [
    "detect_df = pd.DataFrame(\n",
    "    list(zip(file_names, texts, logos, contained, file_paths)),\n",
    "    columns = [\"files\", \"texts\", \"logos\", \"probable_brand\", \"file_path\"]\n",
    ")\n",
    "detect_df.head()"
   ]
  },
  {
   "cell_type": "code",
   "execution_count": null,
   "metadata": {},
   "outputs": [],
   "source": [
    "from PIL import Image\n",
    "from io import BytesIO\n",
    "from IPython.display import HTML\n",
    "import base64\n",
    "\n",
    "\n",
    "#pd.set_option('display.max_colwidth', -1)\n",
    "\n",
    "def get_thumbnail(path):\n",
    "    i = Image.open(path)\n",
    "    i.thumbnail((150, 150), Image.LANCZOS)\n",
    "    return i\n",
    "\n",
    "\n",
    "def image_base64(im):\n",
    "    if isinstance(im, str):\n",
    "        im = get_thumbnail(im)\n",
    "    with BytesIO() as buffer:\n",
    "        im.save(buffer, 'jpeg')\n",
    "        return base64.b64encode(buffer.getvalue()).decode()\n",
    "\n",
    "def image_formatter(im):\n",
    "    return f'<img src=\"data:image/jpeg;base64,{image_base64(im)}\">'\n",
    "\n",
    "\n",
    "detect_df['image'] = detect_df.file_path.map(lambda f: get_thumbnail(f))\n",
    "\n",
    "HTML(detect_df.to_html(formatters={'image': image_formatter}, escape=False))"
   ]
  }
 ]
}